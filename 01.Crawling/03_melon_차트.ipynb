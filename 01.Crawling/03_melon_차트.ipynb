{
  "nbformat": 4,
  "nbformat_minor": 0,
  "metadata": {
    "colab": {
      "name": "03_melon 차트.ipynb",
      "provenance": [],
      "collapsed_sections": []
    },
    "kernelspec": {
      "name": "python3",
      "display_name": "Python 3"
    },
    "language_info": {
      "name": "python"
    }
  },
  "cells": [
    {
      "cell_type": "code",
      "execution_count": null,
      "metadata": {
        "id": "5y-aj6A4D6iv",
        "colab": {
          "base_uri": "https://localhost:8080/",
          "height": 36
        },
        "outputId": "18ac75b7-2546-45a0-caa7-ee2bbc20fd59"
      },
      "outputs": [
        {
          "output_type": "execute_result",
          "data": {
            "text/plain": [
              "''"
            ],
            "application/vnd.google.colaboratory.intrinsic+json": {
              "type": "string"
            }
          },
          "metadata": {},
          "execution_count": 2
        }
      ],
      "source": [
        "import requests\n",
        "url = 'https://www.melon.com/chart/'\n",
        "req = requests.get(url)\n",
        "req.text"
      ]
    },
    {
      "cell_type": "code",
      "source": [
        "#크롤링 하고있지만 자신이 사람인 것처럼 스탠스를 취함.\n",
        "header = {'User-Agent': 'Mozilla/5.0 (Windows NT 10.0; Win64; x64) AppleWebKit/537.36 (KHTML, like Gecko) Chrome/103.0.0.0 Safari/537.36'}\n",
        "req = requests.get(url, headers=header)"
      ],
      "metadata": {
        "id": "N-j-qoE7EU-o"
      },
      "execution_count": null,
      "outputs": []
    },
    {
      "cell_type": "code",
      "source": [
        "from bs4 import BeautifulSoup\n",
        "soup = BeautifulSoup(req.text, 'html.parser')"
      ],
      "metadata": {
        "id": "NZt10-uRFMGy"
      },
      "execution_count": null,
      "outputs": []
    },
    {
      "cell_type": "markdown",
      "source": [
        "### 1. 원하는 목록 찾기(tr - 테이블 , li - 리스트)"
      ],
      "metadata": {
        "id": "5Wm_os5hHClj"
      }
    },
    {
      "cell_type": "code",
      "source": [
        "trs = soup.find_all('tr')\n",
        "len(trs)"
      ],
      "metadata": {
        "id": "P-I9mj84JvXQ",
        "colab": {
          "base_uri": "https://localhost:8080/"
        },
        "outputId": "0e45bc19-4a24-4de5-a656-2f977390a3c4"
      },
      "execution_count": null,
      "outputs": [
        {
          "output_type": "execute_result",
          "data": {
            "text/plain": [
              "101"
            ]
          },
          "metadata": {},
          "execution_count": 6
        }
      ]
    },
    {
      "cell_type": "code",
      "source": [
        "#trs = soup.select('.service_list_song.type02.d_song_list > table > tbody > tr')\n",
        "trs = soup.select('#frm > div > table > tbody > tr')\n",
        "len(trs)"
      ],
      "metadata": {
        "colab": {
          "base_uri": "https://localhost:8080/"
        },
        "id": "-o_qNp330fhc",
        "outputId": "567ba4dc-0aee-463e-afd6-f5da8cef5bd5"
      },
      "execution_count": null,
      "outputs": [
        {
          "output_type": "execute_result",
          "data": {
            "text/plain": [
              "100"
            ]
          },
          "metadata": {},
          "execution_count": 5
        }
      ]
    },
    {
      "cell_type": "markdown",
      "source": [
        "### 2. 하나를 선택해서 원하는 정보 추출하기"
      ],
      "metadata": {
        "id": "XaCrKdNF1wYM"
      }
    },
    {
      "cell_type": "code",
      "source": [
        "tr = trs[0]"
      ],
      "metadata": {
        "id": "_i-EYNdC1eP8"
      },
      "execution_count": null,
      "outputs": []
    },
    {
      "cell_type": "code",
      "source": [
        "# 순위\n",
        "rank = int(tr.select_one('.rank').get_text().strip())    #strip() > 앞뒤의 찌꺼기 파일을 지워줌\n",
        "rank"
      ],
      "metadata": {
        "colab": {
          "base_uri": "https://localhost:8080/"
        },
        "id": "_GucMiqZ11bN",
        "outputId": "ca25812f-17b1-4d65-e3ba-3c02c5b9d18b"
      },
      "execution_count": null,
      "outputs": [
        {
          "output_type": "execute_result",
          "data": {
            "text/plain": [
              "1"
            ]
          },
          "metadata": {},
          "execution_count": 7
        }
      ]
    },
    {
      "cell_type": "code",
      "source": [
        "#제목\n",
        "title = tr.select_one('.ellipsis.rank01').get_text().strip()\n",
        "title"
      ],
      "metadata": {
        "colab": {
          "base_uri": "https://localhost:8080/",
          "height": 36
        },
        "id": "iRDGqox22uP8",
        "outputId": "55b21e59-0a27-4ffb-88a7-9a0e178ee5eb"
      },
      "execution_count": null,
      "outputs": [
        {
          "output_type": "execute_result",
          "data": {
            "text/plain": [
              "'그때 그 순간 그대로 (그그그)'"
            ],
            "application/vnd.google.colaboratory.intrinsic+json": {
              "type": "string"
            }
          },
          "metadata": {},
          "execution_count": 8
        }
      ]
    },
    {
      "cell_type": "code",
      "source": [
        "#가수\n",
        "artist = tr.select_one('.ellipsis.rank02 > a').get_text().strip()\n",
        "artist"
      ],
      "metadata": {
        "colab": {
          "base_uri": "https://localhost:8080/",
          "height": 36
        },
        "id": "IlBTMntX3j5m",
        "outputId": "80fdb7fd-7bb4-433e-b6a7-3cac925304f2"
      },
      "execution_count": null,
      "outputs": [
        {
          "output_type": "execute_result",
          "data": {
            "text/plain": [
              "'WSG워너비 (가야G)'"
            ],
            "application/vnd.google.colaboratory.intrinsic+json": {
              "type": "string"
            }
          },
          "metadata": {},
          "execution_count": 9
        }
      ]
    },
    {
      "cell_type": "code",
      "source": [
        "# 앨범\n",
        "album = tr.select_one('.ellipsis.rank03').get_text().strip()\n",
        "album"
      ],
      "metadata": {
        "colab": {
          "base_uri": "https://localhost:8080/",
          "height": 36
        },
        "id": "OxGgkP5138zQ",
        "outputId": "3c598c13-00a2-4f2e-a49c-11ebdf632f24"
      },
      "execution_count": null,
      "outputs": [
        {
          "output_type": "execute_result",
          "data": {
            "text/plain": [
              "'WSG워너비 1집'"
            ],
            "application/vnd.google.colaboratory.intrinsic+json": {
              "type": "string"
            }
          },
          "metadata": {},
          "execution_count": 10
        }
      ]
    },
    {
      "cell_type": "code",
      "source": [
        "#좋아요   -- 셀레니움을 통해서만이 가져올 수 있음.\n",
        "like = tr.select_one('.cnt')\n",
        "like"
      ],
      "metadata": {
        "colab": {
          "base_uri": "https://localhost:8080/"
        },
        "id": "p81DI-H94gcO",
        "outputId": "40bb5a0a-6d91-4cdb-ad4e-ea584721b5a8"
      },
      "execution_count": null,
      "outputs": [
        {
          "output_type": "execute_result",
          "data": {
            "text/plain": [
              "<span class=\"cnt\">\n",
              "<span class=\"none\">총건수</span>\n",
              "\t\t\t\t\t\t\t\t\t\t\t\t0\n",
              "\t\t\t\t\t\t\t\t\t\t\t</span>"
            ]
          },
          "metadata": {},
          "execution_count": 11
        }
      ]
    },
    {
      "cell_type": "markdown",
      "source": [
        "### 3. 반복문으로 모든 데이터 가져오기"
      ],
      "metadata": {
        "id": "b-38MfH06Otu"
      }
    },
    {
      "cell_type": "code",
      "source": [
        "lines = []\n",
        "for tr in trs:\n",
        "    rank = int(tr.select_one('.rank').get_text().strip())\n",
        "    title = tr.select_one('.ellipsis.rank01').get_text().strip()\n",
        "    artist = tr.select_one('.ellipsis.rank02 > a').get_text().strip()\n",
        "    album = tr.select_one('.ellipsis.rank03').get_text().strip()\n",
        "    lines.append([rank, title, artist, album])"
      ],
      "metadata": {
        "id": "E_Nkr-Ny5FGw"
      },
      "execution_count": null,
      "outputs": []
    },
    {
      "cell_type": "markdown",
      "source": [
        "### 4. DataFrame으로 만들어서 저장하기"
      ],
      "metadata": {
        "id": "TmecwPEd6nxX"
      }
    },
    {
      "cell_type": "code",
      "source": [
        "import pandas as pd\n",
        "df = pd.DataFrame(lines, columns=['순위', '제목', '가수', '앨범'])\n",
        "df.head()"
      ],
      "metadata": {
        "colab": {
          "base_uri": "https://localhost:8080/",
          "height": 206
        },
        "id": "0C0m8CSQ6qRi",
        "outputId": "f032a4ba-d0f7-4a20-eb06-e74ef32f2558"
      },
      "execution_count": null,
      "outputs": [
        {
          "output_type": "execute_result",
          "data": {
            "text/plain": [
              "   순위                 제목              가수                           앨범\n",
              "0   1  그때 그 순간 그대로 (그그그)    WSG워너비 (가야G)                    WSG워너비 1집\n",
              "1   2              보고싶었어  WSG워너비 (4FIRE)                    WSG워너비 1집\n",
              "2   3          Attention        NewJeans  NewJeans 1st EP 'New Jeans'\n",
              "3   4          LOVE DIVE       IVE (아이브)                    LOVE DIVE\n",
              "4   5           SNEAKERS       ITZY (있지)                    CHECKMATE"
            ],
            "text/html": [
              "\n",
              "  <div id=\"df-23fcb20a-f14a-446b-8c5f-78403f67ac2d\">\n",
              "    <div class=\"colab-df-container\">\n",
              "      <div>\n",
              "<style scoped>\n",
              "    .dataframe tbody tr th:only-of-type {\n",
              "        vertical-align: middle;\n",
              "    }\n",
              "\n",
              "    .dataframe tbody tr th {\n",
              "        vertical-align: top;\n",
              "    }\n",
              "\n",
              "    .dataframe thead th {\n",
              "        text-align: right;\n",
              "    }\n",
              "</style>\n",
              "<table border=\"1\" class=\"dataframe\">\n",
              "  <thead>\n",
              "    <tr style=\"text-align: right;\">\n",
              "      <th></th>\n",
              "      <th>순위</th>\n",
              "      <th>제목</th>\n",
              "      <th>가수</th>\n",
              "      <th>앨범</th>\n",
              "    </tr>\n",
              "  </thead>\n",
              "  <tbody>\n",
              "    <tr>\n",
              "      <th>0</th>\n",
              "      <td>1</td>\n",
              "      <td>그때 그 순간 그대로 (그그그)</td>\n",
              "      <td>WSG워너비 (가야G)</td>\n",
              "      <td>WSG워너비 1집</td>\n",
              "    </tr>\n",
              "    <tr>\n",
              "      <th>1</th>\n",
              "      <td>2</td>\n",
              "      <td>보고싶었어</td>\n",
              "      <td>WSG워너비 (4FIRE)</td>\n",
              "      <td>WSG워너비 1집</td>\n",
              "    </tr>\n",
              "    <tr>\n",
              "      <th>2</th>\n",
              "      <td>3</td>\n",
              "      <td>Attention</td>\n",
              "      <td>NewJeans</td>\n",
              "      <td>NewJeans 1st EP 'New Jeans'</td>\n",
              "    </tr>\n",
              "    <tr>\n",
              "      <th>3</th>\n",
              "      <td>4</td>\n",
              "      <td>LOVE DIVE</td>\n",
              "      <td>IVE (아이브)</td>\n",
              "      <td>LOVE DIVE</td>\n",
              "    </tr>\n",
              "    <tr>\n",
              "      <th>4</th>\n",
              "      <td>5</td>\n",
              "      <td>SNEAKERS</td>\n",
              "      <td>ITZY (있지)</td>\n",
              "      <td>CHECKMATE</td>\n",
              "    </tr>\n",
              "  </tbody>\n",
              "</table>\n",
              "</div>\n",
              "      <button class=\"colab-df-convert\" onclick=\"convertToInteractive('df-23fcb20a-f14a-446b-8c5f-78403f67ac2d')\"\n",
              "              title=\"Convert this dataframe to an interactive table.\"\n",
              "              style=\"display:none;\">\n",
              "        \n",
              "  <svg xmlns=\"http://www.w3.org/2000/svg\" height=\"24px\"viewBox=\"0 0 24 24\"\n",
              "       width=\"24px\">\n",
              "    <path d=\"M0 0h24v24H0V0z\" fill=\"none\"/>\n",
              "    <path d=\"M18.56 5.44l.94 2.06.94-2.06 2.06-.94-2.06-.94-.94-2.06-.94 2.06-2.06.94zm-11 1L8.5 8.5l.94-2.06 2.06-.94-2.06-.94L8.5 2.5l-.94 2.06-2.06.94zm10 10l.94 2.06.94-2.06 2.06-.94-2.06-.94-.94-2.06-.94 2.06-2.06.94z\"/><path d=\"M17.41 7.96l-1.37-1.37c-.4-.4-.92-.59-1.43-.59-.52 0-1.04.2-1.43.59L10.3 9.45l-7.72 7.72c-.78.78-.78 2.05 0 2.83L4 21.41c.39.39.9.59 1.41.59.51 0 1.02-.2 1.41-.59l7.78-7.78 2.81-2.81c.8-.78.8-2.07 0-2.86zM5.41 20L4 18.59l7.72-7.72 1.47 1.35L5.41 20z\"/>\n",
              "  </svg>\n",
              "      </button>\n",
              "      \n",
              "  <style>\n",
              "    .colab-df-container {\n",
              "      display:flex;\n",
              "      flex-wrap:wrap;\n",
              "      gap: 12px;\n",
              "    }\n",
              "\n",
              "    .colab-df-convert {\n",
              "      background-color: #E8F0FE;\n",
              "      border: none;\n",
              "      border-radius: 50%;\n",
              "      cursor: pointer;\n",
              "      display: none;\n",
              "      fill: #1967D2;\n",
              "      height: 32px;\n",
              "      padding: 0 0 0 0;\n",
              "      width: 32px;\n",
              "    }\n",
              "\n",
              "    .colab-df-convert:hover {\n",
              "      background-color: #E2EBFA;\n",
              "      box-shadow: 0px 1px 2px rgba(60, 64, 67, 0.3), 0px 1px 3px 1px rgba(60, 64, 67, 0.15);\n",
              "      fill: #174EA6;\n",
              "    }\n",
              "\n",
              "    [theme=dark] .colab-df-convert {\n",
              "      background-color: #3B4455;\n",
              "      fill: #D2E3FC;\n",
              "    }\n",
              "\n",
              "    [theme=dark] .colab-df-convert:hover {\n",
              "      background-color: #434B5C;\n",
              "      box-shadow: 0px 1px 3px 1px rgba(0, 0, 0, 0.15);\n",
              "      filter: drop-shadow(0px 1px 2px rgba(0, 0, 0, 0.3));\n",
              "      fill: #FFFFFF;\n",
              "    }\n",
              "  </style>\n",
              "\n",
              "      <script>\n",
              "        const buttonEl =\n",
              "          document.querySelector('#df-23fcb20a-f14a-446b-8c5f-78403f67ac2d button.colab-df-convert');\n",
              "        buttonEl.style.display =\n",
              "          google.colab.kernel.accessAllowed ? 'block' : 'none';\n",
              "\n",
              "        async function convertToInteractive(key) {\n",
              "          const element = document.querySelector('#df-23fcb20a-f14a-446b-8c5f-78403f67ac2d');\n",
              "          const dataTable =\n",
              "            await google.colab.kernel.invokeFunction('convertToInteractive',\n",
              "                                                     [key], {});\n",
              "          if (!dataTable) return;\n",
              "\n",
              "          const docLinkHtml = 'Like what you see? Visit the ' +\n",
              "            '<a target=\"_blank\" href=https://colab.research.google.com/notebooks/data_table.ipynb>data table notebook</a>'\n",
              "            + ' to learn more about interactive tables.';\n",
              "          element.innerHTML = '';\n",
              "          dataTable['output_type'] = 'display_data';\n",
              "          await google.colab.output.renderOutput(dataTable, element);\n",
              "          const docLink = document.createElement('div');\n",
              "          docLink.innerHTML = docLinkHtml;\n",
              "          element.appendChild(docLink);\n",
              "        }\n",
              "      </script>\n",
              "    </div>\n",
              "  </div>\n",
              "  "
            ]
          },
          "metadata": {},
          "execution_count": 13
        }
      ]
    },
    {
      "cell_type": "code",
      "source": [
        "df.to_csv('멜론차트Top100(20220808).csv')"
      ],
      "metadata": {
        "id": "ZPsJyPOy7OJn"
      },
      "execution_count": null,
      "outputs": []
    },
    {
      "cell_type": "code",
      "source": [
        "x = pd.read_csv('멜론차트Top100(20220808).csv')\n",
        "x.head()"
      ],
      "metadata": {
        "colab": {
          "base_uri": "https://localhost:8080/",
          "height": 206
        },
        "id": "KrtZGuvE7n-u",
        "outputId": "e3433251-89a5-45cc-f9ea-5c5b7a8c60aa"
      },
      "execution_count": null,
      "outputs": [
        {
          "output_type": "execute_result",
          "data": {
            "text/plain": [
              "   Unnamed: 0  순위                 제목              가수  \\\n",
              "0           0   1  그때 그 순간 그대로 (그그그)    WSG워너비 (가야G)   \n",
              "1           1   2              보고싶었어  WSG워너비 (4FIRE)   \n",
              "2           2   3          Attention        NewJeans   \n",
              "3           3   4          LOVE DIVE       IVE (아이브)   \n",
              "4           4   5           SNEAKERS       ITZY (있지)   \n",
              "\n",
              "                            앨범  \n",
              "0                    WSG워너비 1집  \n",
              "1                    WSG워너비 1집  \n",
              "2  NewJeans 1st EP 'New Jeans'  \n",
              "3                    LOVE DIVE  \n",
              "4                    CHECKMATE  "
            ],
            "text/html": [
              "\n",
              "  <div id=\"df-5d1e63ab-ff59-4906-8fd0-0cf3cb46b9c0\">\n",
              "    <div class=\"colab-df-container\">\n",
              "      <div>\n",
              "<style scoped>\n",
              "    .dataframe tbody tr th:only-of-type {\n",
              "        vertical-align: middle;\n",
              "    }\n",
              "\n",
              "    .dataframe tbody tr th {\n",
              "        vertical-align: top;\n",
              "    }\n",
              "\n",
              "    .dataframe thead th {\n",
              "        text-align: right;\n",
              "    }\n",
              "</style>\n",
              "<table border=\"1\" class=\"dataframe\">\n",
              "  <thead>\n",
              "    <tr style=\"text-align: right;\">\n",
              "      <th></th>\n",
              "      <th>Unnamed: 0</th>\n",
              "      <th>순위</th>\n",
              "      <th>제목</th>\n",
              "      <th>가수</th>\n",
              "      <th>앨범</th>\n",
              "    </tr>\n",
              "  </thead>\n",
              "  <tbody>\n",
              "    <tr>\n",
              "      <th>0</th>\n",
              "      <td>0</td>\n",
              "      <td>1</td>\n",
              "      <td>그때 그 순간 그대로 (그그그)</td>\n",
              "      <td>WSG워너비 (가야G)</td>\n",
              "      <td>WSG워너비 1집</td>\n",
              "    </tr>\n",
              "    <tr>\n",
              "      <th>1</th>\n",
              "      <td>1</td>\n",
              "      <td>2</td>\n",
              "      <td>보고싶었어</td>\n",
              "      <td>WSG워너비 (4FIRE)</td>\n",
              "      <td>WSG워너비 1집</td>\n",
              "    </tr>\n",
              "    <tr>\n",
              "      <th>2</th>\n",
              "      <td>2</td>\n",
              "      <td>3</td>\n",
              "      <td>Attention</td>\n",
              "      <td>NewJeans</td>\n",
              "      <td>NewJeans 1st EP 'New Jeans'</td>\n",
              "    </tr>\n",
              "    <tr>\n",
              "      <th>3</th>\n",
              "      <td>3</td>\n",
              "      <td>4</td>\n",
              "      <td>LOVE DIVE</td>\n",
              "      <td>IVE (아이브)</td>\n",
              "      <td>LOVE DIVE</td>\n",
              "    </tr>\n",
              "    <tr>\n",
              "      <th>4</th>\n",
              "      <td>4</td>\n",
              "      <td>5</td>\n",
              "      <td>SNEAKERS</td>\n",
              "      <td>ITZY (있지)</td>\n",
              "      <td>CHECKMATE</td>\n",
              "    </tr>\n",
              "  </tbody>\n",
              "</table>\n",
              "</div>\n",
              "      <button class=\"colab-df-convert\" onclick=\"convertToInteractive('df-5d1e63ab-ff59-4906-8fd0-0cf3cb46b9c0')\"\n",
              "              title=\"Convert this dataframe to an interactive table.\"\n",
              "              style=\"display:none;\">\n",
              "        \n",
              "  <svg xmlns=\"http://www.w3.org/2000/svg\" height=\"24px\"viewBox=\"0 0 24 24\"\n",
              "       width=\"24px\">\n",
              "    <path d=\"M0 0h24v24H0V0z\" fill=\"none\"/>\n",
              "    <path d=\"M18.56 5.44l.94 2.06.94-2.06 2.06-.94-2.06-.94-.94-2.06-.94 2.06-2.06.94zm-11 1L8.5 8.5l.94-2.06 2.06-.94-2.06-.94L8.5 2.5l-.94 2.06-2.06.94zm10 10l.94 2.06.94-2.06 2.06-.94-2.06-.94-.94-2.06-.94 2.06-2.06.94z\"/><path d=\"M17.41 7.96l-1.37-1.37c-.4-.4-.92-.59-1.43-.59-.52 0-1.04.2-1.43.59L10.3 9.45l-7.72 7.72c-.78.78-.78 2.05 0 2.83L4 21.41c.39.39.9.59 1.41.59.51 0 1.02-.2 1.41-.59l7.78-7.78 2.81-2.81c.8-.78.8-2.07 0-2.86zM5.41 20L4 18.59l7.72-7.72 1.47 1.35L5.41 20z\"/>\n",
              "  </svg>\n",
              "      </button>\n",
              "      \n",
              "  <style>\n",
              "    .colab-df-container {\n",
              "      display:flex;\n",
              "      flex-wrap:wrap;\n",
              "      gap: 12px;\n",
              "    }\n",
              "\n",
              "    .colab-df-convert {\n",
              "      background-color: #E8F0FE;\n",
              "      border: none;\n",
              "      border-radius: 50%;\n",
              "      cursor: pointer;\n",
              "      display: none;\n",
              "      fill: #1967D2;\n",
              "      height: 32px;\n",
              "      padding: 0 0 0 0;\n",
              "      width: 32px;\n",
              "    }\n",
              "\n",
              "    .colab-df-convert:hover {\n",
              "      background-color: #E2EBFA;\n",
              "      box-shadow: 0px 1px 2px rgba(60, 64, 67, 0.3), 0px 1px 3px 1px rgba(60, 64, 67, 0.15);\n",
              "      fill: #174EA6;\n",
              "    }\n",
              "\n",
              "    [theme=dark] .colab-df-convert {\n",
              "      background-color: #3B4455;\n",
              "      fill: #D2E3FC;\n",
              "    }\n",
              "\n",
              "    [theme=dark] .colab-df-convert:hover {\n",
              "      background-color: #434B5C;\n",
              "      box-shadow: 0px 1px 3px 1px rgba(0, 0, 0, 0.15);\n",
              "      filter: drop-shadow(0px 1px 2px rgba(0, 0, 0, 0.3));\n",
              "      fill: #FFFFFF;\n",
              "    }\n",
              "  </style>\n",
              "\n",
              "      <script>\n",
              "        const buttonEl =\n",
              "          document.querySelector('#df-5d1e63ab-ff59-4906-8fd0-0cf3cb46b9c0 button.colab-df-convert');\n",
              "        buttonEl.style.display =\n",
              "          google.colab.kernel.accessAllowed ? 'block' : 'none';\n",
              "\n",
              "        async function convertToInteractive(key) {\n",
              "          const element = document.querySelector('#df-5d1e63ab-ff59-4906-8fd0-0cf3cb46b9c0');\n",
              "          const dataTable =\n",
              "            await google.colab.kernel.invokeFunction('convertToInteractive',\n",
              "                                                     [key], {});\n",
              "          if (!dataTable) return;\n",
              "\n",
              "          const docLinkHtml = 'Like what you see? Visit the ' +\n",
              "            '<a target=\"_blank\" href=https://colab.research.google.com/notebooks/data_table.ipynb>data table notebook</a>'\n",
              "            + ' to learn more about interactive tables.';\n",
              "          element.innerHTML = '';\n",
              "          dataTable['output_type'] = 'display_data';\n",
              "          await google.colab.output.renderOutput(dataTable, element);\n",
              "          const docLink = document.createElement('div');\n",
              "          docLink.innerHTML = docLinkHtml;\n",
              "          element.appendChild(docLink);\n",
              "        }\n",
              "      </script>\n",
              "    </div>\n",
              "  </div>\n",
              "  "
            ]
          },
          "metadata": {},
          "execution_count": 20
        }
      ]
    },
    {
      "cell_type": "code",
      "source": [
        "df.to_csv('멜론차트Top100(20220808).csv',index=False)"
      ],
      "metadata": {
        "id": "0J5YkhIG7r22"
      },
      "execution_count": null,
      "outputs": []
    }
  ]
}