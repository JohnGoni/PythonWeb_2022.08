{
  "nbformat": 4,
  "nbformat_minor": 0,
  "metadata": {
    "colab": {
      "name": "02_Google_colab.ipynb",
      "provenance": [],
      "collapsed_sections": []
    },
    "kernelspec": {
      "name": "python3",
      "display_name": "Python 3"
    },
    "language_info": {
      "name": "python"
    }
  },
  "cells": [
    {
      "cell_type": "markdown",
      "source": [
        "### Google크롤링 - Chromedriver 검색"
      ],
      "metadata": {
        "id": "c3S3OQIbEDR9"
      }
    },
    {
      "cell_type": "code",
      "source": [
        "!apt-get update > /dev/null 2>&1\n",
        "!pip install selenium > /dev/null 2>&1\n",
        "!apt install chromium-chromedriver > /dev/null 2>&1"
      ],
      "metadata": {
        "id": "QxY0B6Ek_vL4"
      },
      "execution_count": 3,
      "outputs": []
    },
    {
      "cell_type": "code",
      "source": [
        "import time\n",
        "from selenium import webdriver\n",
        "from selenium.webdriver.common.keys import Keys\n",
        "from selenium.webdriver.common.by import By"
      ],
      "metadata": {
        "id": "TGN3_RLLEOuw"
      },
      "execution_count": 14,
      "outputs": []
    },
    {
      "cell_type": "code",
      "source": [
        "options = webdriver.ChromeOptions()\n",
        "options.add_argument('--headless') # 화면없이 실행\n",
        "options.add_argument('--no-sandbox')\n",
        "options.add_argument('--single-process')\n",
        "options.add_argument('--disable-dev-shm-usage')\n",
        "driver = webdriver.Chrome('chromedriver', options=options)"
      ],
      "metadata": {
        "id": "mQoOakLwIm8h"
      },
      "execution_count": 10,
      "outputs": []
    },
    {
      "cell_type": "code",
      "source": [
        "url = 'https://www.google.co.kr/'\n",
        "driver.get(url)"
      ],
      "metadata": {
        "id": "dE5ei8_qI1sm"
      },
      "execution_count": 11,
      "outputs": []
    },
    {
      "cell_type": "code",
      "source": [
        "search_box = driver.find_element(by=By.NAME, value='q')\n",
        "search_box.send_keys('ChromeDriver')\n",
        "search_box.send_keys(Keys.ENTER)\n",
        "time.sleep(2)"
      ],
      "metadata": {
        "id": "PMEWek5JJqh9"
      },
      "execution_count": 15,
      "outputs": []
    },
    {
      "cell_type": "code",
      "source": [
        "divs =  driver.find_elements(By.CSS_SELECTOR, \"#search .g\")\n",
        "len(divs)"
      ],
      "metadata": {
        "colab": {
          "base_uri": "https://localhost:8080/"
        },
        "id": "7WpjfgW1M8NS",
        "outputId": "a010665b-711b-44fa-9dd2-c0b19f81a159"
      },
      "execution_count": 17,
      "outputs": [
        {
          "output_type": "execute_result",
          "data": {
            "text/plain": [
              "9"
            ]
          },
          "metadata": {},
          "execution_count": 17
        }
      ]
    },
    {
      "cell_type": "code",
      "source": [
        "div = divs[0]\n",
        "title = div.find_element(By.CSS_SELECTOR, '.LC20lb.MBeuO.DKV0Md').text\n",
        "title"
      ],
      "metadata": {
        "colab": {
          "base_uri": "https://localhost:8080/",
          "height": 36
        },
        "id": "hNBRTim8OPhg",
        "outputId": "4d381614-38c9-44a4-ba04-219c462a5081"
      },
      "execution_count": 19,
      "outputs": [
        {
          "output_type": "execute_result",
          "data": {
            "text/plain": [
              "'ChromeDriver - WebDriver for Chrome'"
            ],
            "application/vnd.google.colaboratory.intrinsic+json": {
              "type": "string"
            }
          },
          "metadata": {},
          "execution_count": 19
        }
      ]
    },
    {
      "cell_type": "code",
      "source": [
        "content = div.find_element(By.CSS_SELECTOR,'.VwiC3b.yXK7lf.MUxGbd').text.strip()\n",
        "content "
      ],
      "metadata": {
        "colab": {
          "base_uri": "https://localhost:8080/",
          "height": 36
        },
        "id": "Js1DRfaMPcKz",
        "outputId": "29be60fc-02bd-4b45-c6b3-92dad88dd061"
      },
      "execution_count": 21,
      "outputs": [
        {
          "output_type": "execute_result",
          "data": {
            "text/plain": [
              "'ChromeDriver · WebDriver is an open source tool for automated testing of webapps across many browsers. It provides capabilities for navigating to web pages, user ...'"
            ],
            "application/vnd.google.colaboratory.intrinsic+json": {
              "type": "string"
            }
          },
          "metadata": {},
          "execution_count": 21
        }
      ]
    },
    {
      "cell_type": "code",
      "source": [
        "lines=[]\n",
        "for div in divs:\n",
        "  try:\n",
        "    title = div.find_element(By.CSS_SELECTOR, '.LC20lb.MBeuO.DKV0Md').text\n",
        "    content = div.find_element(By.CSS_SELECTOR,'.VwiC3b.yXK7lf.MUxGbd').text\n",
        "  except:\n",
        "      continue\n",
        "  lines.append([title, content])\n"
      ],
      "metadata": {
        "id": "oUdf-AjPQXG5"
      },
      "execution_count": 22,
      "outputs": []
    },
    {
      "cell_type": "code",
      "source": [
        "lines"
      ],
      "metadata": {
        "colab": {
          "base_uri": "https://localhost:8080/"
        },
        "id": "vpXNEqU5RrBC",
        "outputId": "ee2fa8f9-21ee-492f-d10b-c201103d9cb7"
      },
      "execution_count": 23,
      "outputs": [
        {
          "output_type": "execute_result",
          "data": {
            "text/plain": [
              "[['ChromeDriver - WebDriver for Chrome',\n",
              "  'ChromeDriver · WebDriver is an open source tool for automated testing of webapps across many browsers. It provides capabilities for navigating to web pages, user ...'],\n",
              " ['ChromeDriver - WebDriver for Chrome',\n",
              "  'ChromeDriver · WebDriver is an open source tool for automated testing of webapps across many browsers. It provides capabilities for navigating to web pages, user ...'],\n",
              " ['Downloads - ChromeDriver - WebDriver for Chrome',\n",
              "  'Current Releases. If you are using Chrome version 94, please download ChromeDriver 94.0.4606.41; If you are using Chrome version 93, ...'],\n",
              " ['請檢查ChromeDriver與本機Chrome瀏覽器的版本是否相應」的 ...',\n",
              "  '1. 請至ChromeDriver測試工具下載網頁（https://chromedriver.chromium.org/downloads），選擇對應於本機安裝的Chrome瀏覽器版本連結網頁，若作業系統為微軟Windows，請 ...'],\n",
              " ['使用python selenium時關於chromedriver的小問題 - Medium',\n",
              "  \"在virtual environment使用selenium時，可能會遇到下列問題： selenium.common.exceptions.WebDriverException: Message: 'chromedriver' executable needs to be in ...\"],\n",
              " ['Nightwatch101 #28：獨立使用ChromeDriver 跑測試 - iT 邦幫忙',\n",
              "  'ChromeDriver 是一個為Chromium 而實作W3C WebDriver Wire 規範的獨立的應用程式，目前桌機和Android 上的Chrome 瀏覽器皆使用這驅動程式（下載ChromeDriver）。'],\n",
              " ['Selenium執行chrome driver視窗消失| H - vocus - 方格子',\n",
              "  '2022年2月21日 — 單純只是因為電腦的chrome更新了但程式執行的chromedriver版本太舊只要到https://chromedriver.chromium.org/downloads下載相對應的版本即可例如本文 ...'],\n",
              " ['Mac / Python使用Selenium爬蟲無法開啟chromedriver',\n",
              "  '“chromedriver” cannot be opened because it is from an unidentified developer. macOS cannot verify that this app is free from malware. 中文的介面應該會顯示：.'],\n",
              " ['ChromeDriver 的安装 - 静觅',\n",
              "  '2021年10月3日 — 成功安装好了Selenium 库，但是它是一个自动化测试工具，需要浏览器来配合它使用，那么本节我们就介绍一下Chrome 浏览器及ChromeDriver 驱动的配置。']]"
            ]
          },
          "metadata": {},
          "execution_count": 23
        }
      ]
    },
    {
      "cell_type": "code",
      "source": [
        "import pandas as pd\n",
        "df = pd.DataFrame(lines, columns=['title', 'content'])\n",
        "df"
      ],
      "metadata": {
        "colab": {
          "base_uri": "https://localhost:8080/",
          "height": 332
        },
        "id": "2DbMpJZmSC7p",
        "outputId": "d0b6e14d-81d1-4cca-e3c4-35f4bd172744"
      },
      "execution_count": 24,
      "outputs": [
        {
          "output_type": "execute_result",
          "data": {
            "text/plain": [
              "                                             title  \\\n",
              "0              ChromeDriver - WebDriver for Chrome   \n",
              "1              ChromeDriver - WebDriver for Chrome   \n",
              "2  Downloads - ChromeDriver - WebDriver for Chrome   \n",
              "3         請檢查ChromeDriver與本機Chrome瀏覽器的版本是否相應」的 ...   \n",
              "4    使用python selenium時關於chromedriver的小問題 - Medium   \n",
              "5  Nightwatch101 #28：獨立使用ChromeDriver 跑測試 - iT 邦幫忙   \n",
              "6     Selenium執行chrome driver視窗消失| H - vocus - 方格子   \n",
              "7         Mac / Python使用Selenium爬蟲無法開啟chromedriver   \n",
              "8                            ChromeDriver 的安装 - 静觅   \n",
              "\n",
              "                                             content  \n",
              "0  ChromeDriver · WebDriver is an open source too...  \n",
              "1  ChromeDriver · WebDriver is an open source too...  \n",
              "2  Current Releases. If you are using Chrome vers...  \n",
              "3  1. 請至ChromeDriver測試工具下載網頁（https://chromedriver...  \n",
              "4  在virtual environment使用selenium時，可能會遇到下列問題： sel...  \n",
              "5  ChromeDriver 是一個為Chromium 而實作W3C WebDriver Wir...  \n",
              "6  2022年2月21日 — 單純只是因為電腦的chrome更新了但程式執行的chromedri...  \n",
              "7  “chromedriver” cannot be opened because it is ...  \n",
              "8  2021年10月3日 — 成功安装好了Selenium 库，但是它是一个自动化测试工具，需要...  "
            ],
            "text/html": [
              "\n",
              "  <div id=\"df-b63f7eea-63c5-4c10-a931-f8fd8abb05e7\">\n",
              "    <div class=\"colab-df-container\">\n",
              "      <div>\n",
              "<style scoped>\n",
              "    .dataframe tbody tr th:only-of-type {\n",
              "        vertical-align: middle;\n",
              "    }\n",
              "\n",
              "    .dataframe tbody tr th {\n",
              "        vertical-align: top;\n",
              "    }\n",
              "\n",
              "    .dataframe thead th {\n",
              "        text-align: right;\n",
              "    }\n",
              "</style>\n",
              "<table border=\"1\" class=\"dataframe\">\n",
              "  <thead>\n",
              "    <tr style=\"text-align: right;\">\n",
              "      <th></th>\n",
              "      <th>title</th>\n",
              "      <th>content</th>\n",
              "    </tr>\n",
              "  </thead>\n",
              "  <tbody>\n",
              "    <tr>\n",
              "      <th>0</th>\n",
              "      <td>ChromeDriver - WebDriver for Chrome</td>\n",
              "      <td>ChromeDriver · WebDriver is an open source too...</td>\n",
              "    </tr>\n",
              "    <tr>\n",
              "      <th>1</th>\n",
              "      <td>ChromeDriver - WebDriver for Chrome</td>\n",
              "      <td>ChromeDriver · WebDriver is an open source too...</td>\n",
              "    </tr>\n",
              "    <tr>\n",
              "      <th>2</th>\n",
              "      <td>Downloads - ChromeDriver - WebDriver for Chrome</td>\n",
              "      <td>Current Releases. If you are using Chrome vers...</td>\n",
              "    </tr>\n",
              "    <tr>\n",
              "      <th>3</th>\n",
              "      <td>請檢查ChromeDriver與本機Chrome瀏覽器的版本是否相應」的 ...</td>\n",
              "      <td>1. 請至ChromeDriver測試工具下載網頁（https://chromedriver...</td>\n",
              "    </tr>\n",
              "    <tr>\n",
              "      <th>4</th>\n",
              "      <td>使用python selenium時關於chromedriver的小問題 - Medium</td>\n",
              "      <td>在virtual environment使用selenium時，可能會遇到下列問題： sel...</td>\n",
              "    </tr>\n",
              "    <tr>\n",
              "      <th>5</th>\n",
              "      <td>Nightwatch101 #28：獨立使用ChromeDriver 跑測試 - iT 邦幫忙</td>\n",
              "      <td>ChromeDriver 是一個為Chromium 而實作W3C WebDriver Wir...</td>\n",
              "    </tr>\n",
              "    <tr>\n",
              "      <th>6</th>\n",
              "      <td>Selenium執行chrome driver視窗消失| H - vocus - 方格子</td>\n",
              "      <td>2022年2月21日 — 單純只是因為電腦的chrome更新了但程式執行的chromedri...</td>\n",
              "    </tr>\n",
              "    <tr>\n",
              "      <th>7</th>\n",
              "      <td>Mac / Python使用Selenium爬蟲無法開啟chromedriver</td>\n",
              "      <td>“chromedriver” cannot be opened because it is ...</td>\n",
              "    </tr>\n",
              "    <tr>\n",
              "      <th>8</th>\n",
              "      <td>ChromeDriver 的安装 - 静觅</td>\n",
              "      <td>2021年10月3日 — 成功安装好了Selenium 库，但是它是一个自动化测试工具，需要...</td>\n",
              "    </tr>\n",
              "  </tbody>\n",
              "</table>\n",
              "</div>\n",
              "      <button class=\"colab-df-convert\" onclick=\"convertToInteractive('df-b63f7eea-63c5-4c10-a931-f8fd8abb05e7')\"\n",
              "              title=\"Convert this dataframe to an interactive table.\"\n",
              "              style=\"display:none;\">\n",
              "        \n",
              "  <svg xmlns=\"http://www.w3.org/2000/svg\" height=\"24px\"viewBox=\"0 0 24 24\"\n",
              "       width=\"24px\">\n",
              "    <path d=\"M0 0h24v24H0V0z\" fill=\"none\"/>\n",
              "    <path d=\"M18.56 5.44l.94 2.06.94-2.06 2.06-.94-2.06-.94-.94-2.06-.94 2.06-2.06.94zm-11 1L8.5 8.5l.94-2.06 2.06-.94-2.06-.94L8.5 2.5l-.94 2.06-2.06.94zm10 10l.94 2.06.94-2.06 2.06-.94-2.06-.94-.94-2.06-.94 2.06-2.06.94z\"/><path d=\"M17.41 7.96l-1.37-1.37c-.4-.4-.92-.59-1.43-.59-.52 0-1.04.2-1.43.59L10.3 9.45l-7.72 7.72c-.78.78-.78 2.05 0 2.83L4 21.41c.39.39.9.59 1.41.59.51 0 1.02-.2 1.41-.59l7.78-7.78 2.81-2.81c.8-.78.8-2.07 0-2.86zM5.41 20L4 18.59l7.72-7.72 1.47 1.35L5.41 20z\"/>\n",
              "  </svg>\n",
              "      </button>\n",
              "      \n",
              "  <style>\n",
              "    .colab-df-container {\n",
              "      display:flex;\n",
              "      flex-wrap:wrap;\n",
              "      gap: 12px;\n",
              "    }\n",
              "\n",
              "    .colab-df-convert {\n",
              "      background-color: #E8F0FE;\n",
              "      border: none;\n",
              "      border-radius: 50%;\n",
              "      cursor: pointer;\n",
              "      display: none;\n",
              "      fill: #1967D2;\n",
              "      height: 32px;\n",
              "      padding: 0 0 0 0;\n",
              "      width: 32px;\n",
              "    }\n",
              "\n",
              "    .colab-df-convert:hover {\n",
              "      background-color: #E2EBFA;\n",
              "      box-shadow: 0px 1px 2px rgba(60, 64, 67, 0.3), 0px 1px 3px 1px rgba(60, 64, 67, 0.15);\n",
              "      fill: #174EA6;\n",
              "    }\n",
              "\n",
              "    [theme=dark] .colab-df-convert {\n",
              "      background-color: #3B4455;\n",
              "      fill: #D2E3FC;\n",
              "    }\n",
              "\n",
              "    [theme=dark] .colab-df-convert:hover {\n",
              "      background-color: #434B5C;\n",
              "      box-shadow: 0px 1px 3px 1px rgba(0, 0, 0, 0.15);\n",
              "      filter: drop-shadow(0px 1px 2px rgba(0, 0, 0, 0.3));\n",
              "      fill: #FFFFFF;\n",
              "    }\n",
              "  </style>\n",
              "\n",
              "      <script>\n",
              "        const buttonEl =\n",
              "          document.querySelector('#df-b63f7eea-63c5-4c10-a931-f8fd8abb05e7 button.colab-df-convert');\n",
              "        buttonEl.style.display =\n",
              "          google.colab.kernel.accessAllowed ? 'block' : 'none';\n",
              "\n",
              "        async function convertToInteractive(key) {\n",
              "          const element = document.querySelector('#df-b63f7eea-63c5-4c10-a931-f8fd8abb05e7');\n",
              "          const dataTable =\n",
              "            await google.colab.kernel.invokeFunction('convertToInteractive',\n",
              "                                                     [key], {});\n",
              "          if (!dataTable) return;\n",
              "\n",
              "          const docLinkHtml = 'Like what you see? Visit the ' +\n",
              "            '<a target=\"_blank\" href=https://colab.research.google.com/notebooks/data_table.ipynb>data table notebook</a>'\n",
              "            + ' to learn more about interactive tables.';\n",
              "          element.innerHTML = '';\n",
              "          dataTable['output_type'] = 'display_data';\n",
              "          await google.colab.output.renderOutput(dataTable, element);\n",
              "          const docLink = document.createElement('div');\n",
              "          docLink.innerHTML = docLinkHtml;\n",
              "          element.appendChild(docLink);\n",
              "        }\n",
              "      </script>\n",
              "    </div>\n",
              "  </div>\n",
              "  "
            ]
          },
          "metadata": {},
          "execution_count": 24
        }
      ]
    }
  ]
}