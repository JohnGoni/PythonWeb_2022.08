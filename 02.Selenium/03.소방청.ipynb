{
 "cells": [
  {
   "cell_type": "code",
   "execution_count": 95,
   "metadata": {},
   "outputs": [],
   "source": [
    "# 소방청 광주지역 검색"
   ]
  },
  {
   "cell_type": "code",
   "execution_count": 96,
   "metadata": {},
   "outputs": [],
   "source": [
    "import time\n",
    "from selenium import webdriver\n",
    "from selenium.webdriver.common.keys import Keys\n",
    "from selenium.webdriver.common.by import By\n",
    "import pandas as pd\n",
    "from bs4 import BeautifulSoup"
   ]
  },
  {
   "cell_type": "code",
   "execution_count": 97,
   "metadata": {},
   "outputs": [],
   "source": [
    "import warnings\n",
    "warnings.filterwarnings('ignore')"
   ]
  },
  {
   "cell_type": "code",
   "execution_count": 98,
   "metadata": {},
   "outputs": [],
   "source": [
    "driver = webdriver.Chrome()"
   ]
  },
  {
   "cell_type": "code",
   "execution_count": 99,
   "metadata": {},
   "outputs": [],
   "source": [
    "url = 'https://www.nfa.go.kr/nfa/introduce/status/firestationidfo/?searchDistance=10&searchMode=distance&myX=35.1493479&myY=126.9218479&searchKeyword='\n",
    "driver.get(url)"
   ]
  },
  {
   "cell_type": "code",
   "execution_count": 100,
   "metadata": {},
   "outputs": [],
   "source": [
    "# 입력창에 광주를 입력하고 검색버튼을 누르는 동작\n",
    "driver.find_element(By.ID,'searchKeyword').send_keys('광주광역시')\n",
    "driver.find_element(By.ID,'fsSearchBtn').click()"
   ]
  },
  {
   "cell_type": "code",
   "execution_count": 101,
   "metadata": {},
   "outputs": [],
   "source": [
    "### 이동 후에는 Beautiful Soup 이용하여 정보를 습득"
   ]
  },
  {
   "cell_type": "code",
   "execution_count": 102,
   "metadata": {},
   "outputs": [
    {
     "data": {
      "text/plain": [
       "10"
      ]
     },
     "execution_count": 102,
     "metadata": {},
     "output_type": "execute_result"
    }
   ],
   "source": [
    "soup = BeautifulSoup(driver.page_source, 'html.parser')\n",
    "lis = soup.select('.stations-list > li')\n",
    "len(lis)"
   ]
  },
  {
   "cell_type": "code",
   "execution_count": 103,
   "metadata": {},
   "outputs": [
    {
     "data": {
      "text/plain": [
       "'광산소방서_광주-평동-119 안전센터'"
      ]
     },
     "execution_count": 103,
     "metadata": {},
     "output_type": "execute_result"
    }
   ],
   "source": [
    "li = lis[0]\n",
    "name = li.select_one('.title').get_text().strip()\n",
    "name"
   ]
  },
  {
   "cell_type": "code",
   "execution_count": 104,
   "metadata": {},
   "outputs": [
    {
     "data": {
      "text/plain": [
       "'광주광역시 광산구 월전동 1251'"
      ]
     },
     "execution_count": 104,
     "metadata": {},
     "output_type": "execute_result"
    }
   ],
   "source": [
    "addr = li.find('address').string.strip()\n",
    "addr"
   ]
  },
  {
   "cell_type": "code",
   "execution_count": 105,
   "metadata": {},
   "outputs": [
    {
     "data": {
      "text/plain": [
       "'전화공사중'"
      ]
     },
     "execution_count": 105,
     "metadata": {},
     "output_type": "execute_result"
    }
   ],
   "source": [
    "tel = li.select_one('.tel').get_text().strip()\n",
    "tel"
   ]
  },
  {
   "cell_type": "code",
   "execution_count": 106,
   "metadata": {},
   "outputs": [],
   "source": [
    "lines = []\n",
    "for li in lis:\n",
    "    li.select_one('.title').get_text().strip()\n",
    "    addr = li.find('address').string.strip()\n",
    "    tel = li.select_one('.tel').get_text().strip()\n",
    "    lines.append([name, addr, tel])"
   ]
  },
  {
   "cell_type": "code",
   "execution_count": 107,
   "metadata": {},
   "outputs": [
    {
     "data": {
      "text/plain": [
       "[['광산소방서_광주-평동-119 안전센터', '광주광역시 광산구 월전동 1251', '전화공사중'],\n",
       " ['광산소방서_광주-평동-119 안전센터', '광주광역시 광산구 임방울대로825번길 16(쌍암동)', '062-606-4883'],\n",
       " ['광산소방서_광주-평동-119 안전센터', '광주광역시 광산구 수등로 236(신가동)', '062-606-4863'],\n",
       " ['광산소방서_광주-평동-119 안전센터', '광주광역시 광산구 비아로12번길 10(비아동)', '062-606-4843'],\n",
       " ['광산소방서_광주-평동-119 안전센터', '광주광역시 광산구 사암로 276(월곡동)', '062-606-4823'],\n",
       " ['광산소방서_광주-평동-119 안전센터', '광주광역시 광산구 상무대로 93-1(도산동)', '062-606-4803'],\n",
       " ['광산소방서_광주-평동-119 안전센터', '광주광역시 광산구 하남산단1번로 13(하남동)', '062-606-4903'],\n",
       " ['광산소방서_광주-평동-119 안전센터', '광주광역시 북구 북문대로 202(동림동)', '062-606-4783'],\n",
       " ['광산소방서_광주-평동-119 안전센터', '광주광역시 북구 삼정로 5(두암동)', '062-606-4763'],\n",
       " ['광산소방서_광주-평동-119 안전센터', '광주광역시 북구 설죽로 529(일곡동)', '062-606-4743']]"
      ]
     },
     "execution_count": 107,
     "metadata": {},
     "output_type": "execute_result"
    }
   ],
   "source": [
    "lines"
   ]
  },
  {
   "cell_type": "markdown",
   "metadata": {},
   "source": [
    "### 두번째 페이지로 이동"
   ]
  },
  {
   "cell_type": "code",
   "execution_count": 108,
   "metadata": {},
   "outputs": [],
   "source": [
    "driver.find_element(By.XPATH,'//*[@id=\"listForm\"]/div/section/ul/li[1]/div/div/ul/li[4]/a').click()"
   ]
  },
  {
   "cell_type": "code",
   "execution_count": 109,
   "metadata": {},
   "outputs": [
    {
     "data": {
      "text/plain": [
       "10"
      ]
     },
     "execution_count": 109,
     "metadata": {},
     "output_type": "execute_result"
    }
   ],
   "source": [
    "soup = BeautifulSoup(driver.page_source, 'html.parser')\n",
    "lis = soup.select('.stations-list > li')\n",
    "len(lis)"
   ]
  },
  {
   "cell_type": "markdown",
   "metadata": {},
   "source": [
    "### 다음페이지로 이동"
   ]
  },
  {
   "cell_type": "code",
   "execution_count": 110,
   "metadata": {},
   "outputs": [],
   "source": [
    "driver.find_element(By.CSS_SELECTOR,'.next_page').click()"
   ]
  },
  {
   "cell_type": "markdown",
   "metadata": {},
   "source": [
    "### 전체"
   ]
  },
  {
   "cell_type": "code",
   "execution_count": 111,
   "metadata": {},
   "outputs": [
    {
     "data": {
      "text/plain": [
       "'29건'"
      ]
     },
     "execution_count": 111,
     "metadata": {},
     "output_type": "execute_result"
    }
   ],
   "source": [
    "# 검색결과 건수 획득\n",
    "strongs = soup.select('.stations-local-after > p > strong')\n",
    "strongs[1].get_text()"
   ]
  },
  {
   "cell_type": "code",
   "execution_count": 112,
   "metadata": {},
   "outputs": [
    {
     "data": {
      "text/plain": [
       "29"
      ]
     },
     "execution_count": 112,
     "metadata": {},
     "output_type": "execute_result"
    }
   ],
   "source": [
    "count=int(strongs[1].get_text().replace('건','').strip())\n",
    "count"
   ]
  },
  {
   "cell_type": "code",
   "execution_count": 113,
   "metadata": {},
   "outputs": [
    {
     "data": {
      "text/plain": [
       "3"
      ]
     },
     "execution_count": 113,
     "metadata": {},
     "output_type": "execute_result"
    }
   ],
   "source": [
    "import math\n",
    "count = math.ceil(count/10)\n",
    "count"
   ]
  },
  {
   "cell_type": "code",
   "execution_count": 114,
   "metadata": {},
   "outputs": [],
   "source": [
    "driver.get(url)\n",
    "time.sleep(1)\n",
    "driver.find_element(By.ID,'searchKeyword').send_keys('광주광역시')\n",
    "driver.find_element(By.ID,'fsSearchBtn').click()"
   ]
  },
  {
   "cell_type": "code",
   "execution_count": 115,
   "metadata": {},
   "outputs": [],
   "source": [
    "lines = []\n",
    "for i in range(count):\n",
    "    if i >= 1 and i%2 == 0:\n",
    "        driver.find_element(By.CSS_SELECTOR,'.next_page').click()\n",
    "        time.sleep(2)\n",
    "    if i >= 1 and i%2 == 1:\n",
    "        driver.find_element(By.XPATH,'//*[@id=\"listForm\"]/div/section/ul/li[1]/div/div/ul/li[4]/a').click()\n",
    "        time.sleep(2)\n",
    "    \n",
    "    soup = BeautifulSoup(driver.page_source, 'html.parser')\n",
    "    lis = soup.select('.stations-list > li')\n",
    "    for li in lis:\n",
    "        name = li.select_one('.title').get_text().strip()\n",
    "        addr = li.find('address').string.strip()\n",
    "        tel = li.select_one('.tel').get_text().strip()\n",
    "        lines.append([name, addr, tel])"
   ]
  },
  {
   "cell_type": "code",
   "execution_count": 116,
   "metadata": {},
   "outputs": [
    {
     "data": {
      "text/plain": [
       "29"
      ]
     },
     "execution_count": 116,
     "metadata": {},
     "output_type": "execute_result"
    }
   ],
   "source": [
    "len(lines)"
   ]
  },
  {
   "cell_type": "code",
   "execution_count": 117,
   "metadata": {},
   "outputs": [],
   "source": [
    "driver.close()"
   ]
  },
  {
   "cell_type": "code",
   "execution_count": 119,
   "metadata": {},
   "outputs": [
    {
     "data": {
      "text/html": [
       "<div>\n",
       "<style scoped>\n",
       "    .dataframe tbody tr th:only-of-type {\n",
       "        vertical-align: middle;\n",
       "    }\n",
       "\n",
       "    .dataframe tbody tr th {\n",
       "        vertical-align: top;\n",
       "    }\n",
       "\n",
       "    .dataframe thead th {\n",
       "        text-align: right;\n",
       "    }\n",
       "</style>\n",
       "<table border=\"1\" class=\"dataframe\">\n",
       "  <thead>\n",
       "    <tr style=\"text-align: right;\">\n",
       "      <th></th>\n",
       "      <th>관서명</th>\n",
       "      <th>주소</th>\n",
       "      <th>전화번호</th>\n",
       "    </tr>\n",
       "  </thead>\n",
       "  <tbody>\n",
       "    <tr>\n",
       "      <th>0</th>\n",
       "      <td>광산소방서_광주-평동-119 안전센터</td>\n",
       "      <td>광주광역시 광산구 월전동 1251</td>\n",
       "      <td>전화공사중</td>\n",
       "    </tr>\n",
       "    <tr>\n",
       "      <th>1</th>\n",
       "      <td>광산소방서_광주-첨단-119 안전센터</td>\n",
       "      <td>광주광역시 광산구 임방울대로825번길 16(쌍암동)</td>\n",
       "      <td>062-606-4883</td>\n",
       "    </tr>\n",
       "    <tr>\n",
       "      <th>2</th>\n",
       "      <td>광산소방서_광주-신가-119 안전센터</td>\n",
       "      <td>광주광역시 광산구 수등로 236(신가동)</td>\n",
       "      <td>062-606-4863</td>\n",
       "    </tr>\n",
       "    <tr>\n",
       "      <th>3</th>\n",
       "      <td>광산소방서_광주-비아-119 안전센터</td>\n",
       "      <td>광주광역시 광산구 비아로12번길 10(비아동)</td>\n",
       "      <td>062-606-4843</td>\n",
       "    </tr>\n",
       "    <tr>\n",
       "      <th>4</th>\n",
       "      <td>광산소방서_광주-월곡-119 안전센터</td>\n",
       "      <td>광주광역시 광산구 사암로 276(월곡동)</td>\n",
       "      <td>062-606-4823</td>\n",
       "    </tr>\n",
       "    <tr>\n",
       "      <th>5</th>\n",
       "      <td>광산소방서_광주-송정-119 안전센터</td>\n",
       "      <td>광주광역시 광산구 상무대로 93-1(도산동)</td>\n",
       "      <td>062-606-4803</td>\n",
       "    </tr>\n",
       "    <tr>\n",
       "      <th>6</th>\n",
       "      <td>광산소방서_광주-하남-119 안전센터</td>\n",
       "      <td>광주광역시 광산구 하남산단1번로 13(하남동)</td>\n",
       "      <td>062-606-4903</td>\n",
       "    </tr>\n",
       "    <tr>\n",
       "      <th>7</th>\n",
       "      <td>북부소방서_광주-동림-119 안전센터</td>\n",
       "      <td>광주광역시 북구 북문대로 202(동림동)</td>\n",
       "      <td>062-606-4783</td>\n",
       "    </tr>\n",
       "    <tr>\n",
       "      <th>8</th>\n",
       "      <td>북부소방서_광주-두암-119 안전센터</td>\n",
       "      <td>광주광역시 북구 삼정로 5(두암동)</td>\n",
       "      <td>062-606-4763</td>\n",
       "    </tr>\n",
       "    <tr>\n",
       "      <th>9</th>\n",
       "      <td>북부소방서_광주-일곡-119 안전센터</td>\n",
       "      <td>광주광역시 북구 설죽로 529(일곡동)</td>\n",
       "      <td>062-606-4743</td>\n",
       "    </tr>\n",
       "    <tr>\n",
       "      <th>10</th>\n",
       "      <td>북부소방서_광주-우산-119 안전센터</td>\n",
       "      <td>광주광역시 북구 동문대로 127(우산동)</td>\n",
       "      <td>062-606-4723</td>\n",
       "    </tr>\n",
       "    <tr>\n",
       "      <th>11</th>\n",
       "      <td>북부소방서_광주-임동-119 안전센터</td>\n",
       "      <td>광주광역시 북구 서림로 5(임동)</td>\n",
       "      <td>062-606-4703</td>\n",
       "    </tr>\n",
       "    <tr>\n",
       "      <th>12</th>\n",
       "      <td>북부소방서_광주-문흥-119 안전센터</td>\n",
       "      <td>광주광역시 북구 서하로 290(오치동)</td>\n",
       "      <td>062-606-4353</td>\n",
       "    </tr>\n",
       "    <tr>\n",
       "      <th>13</th>\n",
       "      <td>남부소방서_광주-봉선-119 안전센터</td>\n",
       "      <td>광주광역시 남구 오방로 63(방림동)</td>\n",
       "      <td>062-606-4623</td>\n",
       "    </tr>\n",
       "    <tr>\n",
       "      <th>14</th>\n",
       "      <td>남부소방서_광주-월산-119 안전센터</td>\n",
       "      <td>광주광역시 남구 수박등로 1(월산동)</td>\n",
       "      <td>062-606-4603</td>\n",
       "    </tr>\n",
       "    <tr>\n",
       "      <th>15</th>\n",
       "      <td>남부소방서_광주-송하-119 안전센터</td>\n",
       "      <td>광주광역시 남구 송암로58번길 13(송하동)</td>\n",
       "      <td>062-606-4303</td>\n",
       "    </tr>\n",
       "    <tr>\n",
       "      <th>16</th>\n",
       "      <td>서부소방서_광주-풍암-119 안전센터</td>\n",
       "      <td>광주광역시 서구 회재로 907(금호동)</td>\n",
       "      <td>062-606-4564</td>\n",
       "    </tr>\n",
       "    <tr>\n",
       "      <th>17</th>\n",
       "      <td>서부소방서_광주-상무-119 안전센터</td>\n",
       "      <td>광주광역시 서구 치평로 65(치평동)</td>\n",
       "      <td>062-606-4543</td>\n",
       "    </tr>\n",
       "    <tr>\n",
       "      <th>18</th>\n",
       "      <td>서부소방서_광주-금호-119 안전센터</td>\n",
       "      <td>광주광역시 서구 운천로 112(쌍촌동)</td>\n",
       "      <td>062-606-4525</td>\n",
       "    </tr>\n",
       "    <tr>\n",
       "      <th>19</th>\n",
       "      <td>서부소방서_광주-염주-119 안전센터</td>\n",
       "      <td>광주광역시 서구 염화로 77(화정동)</td>\n",
       "      <td>062-606-4507</td>\n",
       "    </tr>\n",
       "    <tr>\n",
       "      <th>20</th>\n",
       "      <td>서부소방서_광주-화정-119 안전센터</td>\n",
       "      <td>광주광역시 서구 화운로 197(화정동)</td>\n",
       "      <td>062-606-4255</td>\n",
       "    </tr>\n",
       "    <tr>\n",
       "      <th>21</th>\n",
       "      <td>동부소방서_광주-학운-119 안전센터</td>\n",
       "      <td>광주광역시 동구 남문로 692(학동)</td>\n",
       "      <td>062-606-4403</td>\n",
       "    </tr>\n",
       "    <tr>\n",
       "      <th>22</th>\n",
       "      <td>동부소방서_광주-지산-119 안전센터</td>\n",
       "      <td>광주광역시 동구 밤실로30번길 16(지산동)</td>\n",
       "      <td>062-606-4423</td>\n",
       "    </tr>\n",
       "    <tr>\n",
       "      <th>23</th>\n",
       "      <td>동부소방서_광주-대인-119 안전센터</td>\n",
       "      <td>광주광역시 동구 제봉로 210(대인동)</td>\n",
       "      <td>062-606-4203</td>\n",
       "    </tr>\n",
       "    <tr>\n",
       "      <th>24</th>\n",
       "      <td>광산소방서</td>\n",
       "      <td>광주광역시 광산구 하남산단1번로 13(하남동)</td>\n",
       "      <td>062-613-8813</td>\n",
       "    </tr>\n",
       "    <tr>\n",
       "      <th>25</th>\n",
       "      <td>남부소방서</td>\n",
       "      <td>광주광역시 남구 송암로58번길 13(송하동)</td>\n",
       "      <td>062-613-8613</td>\n",
       "    </tr>\n",
       "    <tr>\n",
       "      <th>26</th>\n",
       "      <td>동부소방서</td>\n",
       "      <td>광주광역시 동구 제봉로 210(대인동)</td>\n",
       "      <td>062-613-8413</td>\n",
       "    </tr>\n",
       "    <tr>\n",
       "      <th>27</th>\n",
       "      <td>북부소방서</td>\n",
       "      <td>광주광역시 북구 서하로 290(오치동)</td>\n",
       "      <td>062-613-8713</td>\n",
       "    </tr>\n",
       "    <tr>\n",
       "      <th>28</th>\n",
       "      <td>서부소방서</td>\n",
       "      <td>광주광역시 서구 화운로 197(화정동)</td>\n",
       "      <td>062-613-8513</td>\n",
       "    </tr>\n",
       "  </tbody>\n",
       "</table>\n",
       "</div>"
      ],
      "text/plain": [
       "                     관서명                            주소          전화번호\n",
       "0   광산소방서_광주-평동-119 안전센터            광주광역시 광산구 월전동 1251         전화공사중\n",
       "1   광산소방서_광주-첨단-119 안전센터  광주광역시 광산구 임방울대로825번길 16(쌍암동)  062-606-4883\n",
       "2   광산소방서_광주-신가-119 안전센터        광주광역시 광산구 수등로 236(신가동)  062-606-4863\n",
       "3   광산소방서_광주-비아-119 안전센터     광주광역시 광산구 비아로12번길 10(비아동)  062-606-4843\n",
       "4   광산소방서_광주-월곡-119 안전센터        광주광역시 광산구 사암로 276(월곡동)  062-606-4823\n",
       "5   광산소방서_광주-송정-119 안전센터      광주광역시 광산구 상무대로 93-1(도산동)  062-606-4803\n",
       "6   광산소방서_광주-하남-119 안전센터     광주광역시 광산구 하남산단1번로 13(하남동)  062-606-4903\n",
       "7   북부소방서_광주-동림-119 안전센터        광주광역시 북구 북문대로 202(동림동)  062-606-4783\n",
       "8   북부소방서_광주-두암-119 안전센터           광주광역시 북구 삼정로 5(두암동)  062-606-4763\n",
       "9   북부소방서_광주-일곡-119 안전센터         광주광역시 북구 설죽로 529(일곡동)  062-606-4743\n",
       "10  북부소방서_광주-우산-119 안전센터        광주광역시 북구 동문대로 127(우산동)  062-606-4723\n",
       "11  북부소방서_광주-임동-119 안전센터            광주광역시 북구 서림로 5(임동)  062-606-4703\n",
       "12  북부소방서_광주-문흥-119 안전센터         광주광역시 북구 서하로 290(오치동)  062-606-4353\n",
       "13  남부소방서_광주-봉선-119 안전센터          광주광역시 남구 오방로 63(방림동)  062-606-4623\n",
       "14  남부소방서_광주-월산-119 안전센터          광주광역시 남구 수박등로 1(월산동)  062-606-4603\n",
       "15  남부소방서_광주-송하-119 안전센터      광주광역시 남구 송암로58번길 13(송하동)  062-606-4303\n",
       "16  서부소방서_광주-풍암-119 안전센터         광주광역시 서구 회재로 907(금호동)  062-606-4564\n",
       "17  서부소방서_광주-상무-119 안전센터          광주광역시 서구 치평로 65(치평동)  062-606-4543\n",
       "18  서부소방서_광주-금호-119 안전센터         광주광역시 서구 운천로 112(쌍촌동)  062-606-4525\n",
       "19  서부소방서_광주-염주-119 안전센터          광주광역시 서구 염화로 77(화정동)  062-606-4507\n",
       "20  서부소방서_광주-화정-119 안전센터         광주광역시 서구 화운로 197(화정동)  062-606-4255\n",
       "21  동부소방서_광주-학운-119 안전센터          광주광역시 동구 남문로 692(학동)  062-606-4403\n",
       "22  동부소방서_광주-지산-119 안전센터      광주광역시 동구 밤실로30번길 16(지산동)  062-606-4423\n",
       "23  동부소방서_광주-대인-119 안전센터         광주광역시 동구 제봉로 210(대인동)  062-606-4203\n",
       "24                 광산소방서     광주광역시 광산구 하남산단1번로 13(하남동)  062-613-8813\n",
       "25                 남부소방서      광주광역시 남구 송암로58번길 13(송하동)  062-613-8613\n",
       "26                 동부소방서         광주광역시 동구 제봉로 210(대인동)  062-613-8413\n",
       "27                 북부소방서         광주광역시 북구 서하로 290(오치동)  062-613-8713\n",
       "28                 서부소방서         광주광역시 서구 화운로 197(화정동)  062-613-8513"
      ]
     },
     "execution_count": 119,
     "metadata": {},
     "output_type": "execute_result"
    }
   ],
   "source": [
    "df = pd.DataFrame(lines, columns=['관서명','주소','전화번호'])\n",
    "df"
   ]
  }
 ],
 "metadata": {
  "kernelspec": {
   "display_name": "Python 3.9.12 ('base')",
   "language": "python",
   "name": "python3"
  },
  "language_info": {
   "codemirror_mode": {
    "name": "ipython",
    "version": 3
   },
   "file_extension": ".py",
   "mimetype": "text/x-python",
   "name": "python",
   "nbconvert_exporter": "python",
   "pygments_lexer": "ipython3",
   "version": "3.9.12"
  },
  "orig_nbformat": 4,
  "vscode": {
   "interpreter": {
    "hash": "fd53aac3a25e8c823995037931b104f9a0168308c458eafc0cdcd10d052bf628"
   }
  }
 },
 "nbformat": 4,
 "nbformat_minor": 2
}
